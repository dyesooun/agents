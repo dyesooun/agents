{
 "cells": [
  {
   "cell_type": "code",
   "execution_count": 1,
   "id": "4bb5cc11",
   "metadata": {},
   "outputs": [],
   "source": [
    "from dotenv import load_dotenv"
   ]
  },
  {
   "cell_type": "code",
   "execution_count": 2,
   "id": "58b725f0",
   "metadata": {},
   "outputs": [
    {
     "data": {
      "text/plain": [
       "True"
      ]
     },
     "execution_count": 2,
     "metadata": {},
     "output_type": "execute_result"
    }
   ],
   "source": [
    "load_dotenv(override=True)"
   ]
  },
  {
   "cell_type": "code",
   "execution_count": 6,
   "id": "e34df457",
   "metadata": {},
   "outputs": [],
   "source": [
    "#importing API keys\n",
    "\n",
    "import os\n",
    "\n",
    "OPENAI_API_KEY = os.getenv(\"OPENAI_API_KEY\")\n",
    "\n",
    "if not OPENAI_API_KEY:\n",
    "    print(\"API key not found!\")"
   ]
  },
  {
   "cell_type": "code",
   "execution_count": 8,
   "id": "7f954687",
   "metadata": {},
   "outputs": [],
   "source": [
    "from openai import OpenAI\n",
    "\n",
    "openai = OpenAI()"
   ]
  },
  {
   "cell_type": "code",
   "execution_count": 11,
   "id": "8115cc16",
   "metadata": {},
   "outputs": [
    {
     "name": "stdout",
     "output_type": "stream",
     "text": [
      "2 + 2 equals 4.\n"
     ]
    }
   ],
   "source": [
    "messages = [\n",
    "    {\"role\": \"user\", \"content\": \"What is 2+2\"}\n",
    "]\n",
    "\n",
    "response = openai.chat.completions.create(model=\"gpt-4o-mini\", messages=messages)\n",
    "\n",
    "print(response.choices[0].message.content)"
   ]
  },
  {
   "cell_type": "code",
   "execution_count": 25,
   "id": "0047f181",
   "metadata": {},
   "outputs": [
    {
     "name": "stdout",
     "output_type": "stream",
     "text": [
      "If you have a five-gallon jug and a three-gallon jug, how can you measure exactly four gallons of water using only these two jugs?\n"
     ]
    }
   ],
   "source": [
    "content = \"Please propse a hard, challenging question to assess someone's IQ. Respond only with questions.\"\n",
    "messages = [{\"role\": \"user\", \"content\": content}]\n",
    "\n",
    "response = openai.chat.completions.create(model=\"gpt-4o-mini\", messages=messages)\n",
    "question = response.choices[0].message.content\n",
    "print(question)"
   ]
  },
  {
   "cell_type": "code",
   "execution_count": 26,
   "id": "b35eaf5f",
   "metadata": {},
   "outputs": [],
   "source": [
    "messages = [{\"role\": \"user\", \"content\": question}]\n",
    "\n",
    "response = openai.chat.completions.create(model=\"gpt-4o-mini\", messages=messages)\n",
    "answer = response.choices[0].message.content"
   ]
  },
  {
   "cell_type": "code",
   "execution_count": 27,
   "id": "d737741d",
   "metadata": {},
   "outputs": [
    {
     "data": {
      "text/markdown": [
       "You can measure exactly four gallons of water using a five-gallon jug and a three-gallon jug by following these steps:\n",
       "\n",
       "1. Fill the three-gallon jug to the top.\n",
       "2. Pour the water from the three-gallon jug into the five-gallon jug.\n",
       "3. Fill the three-gallon jug to the top again.\n",
       "4. Carefully pour water from the three-gallon jug into the five-gallon jug until the five-gallon jug is full. Since it already has three gallons of water in it, it can only take two more gallons from the three-gallon jug.\n",
       "5. At this point, you will have exactly one gallon of water left in the three-gallon jug (since you poured out two gallons).\n",
       "6. Empty the five-gallon jug completely.\n",
       "7. Pour the one gallon of water from the three-gallon jug into the five-gallon jug.\n",
       "8. Fill the three-gallon jug to the top once more.\n",
       "9. Pour the water from the three-gallon jug into the five-gallon jug. Since the five-gallon jug already contains one gallon, it will now take three more gallons from the three-gallon jug.\n",
       "\n",
       "Now, you have exactly four gallons in the five-gallon jug."
      ],
      "text/plain": [
       "<IPython.core.display.Markdown object>"
      ]
     },
     "metadata": {},
     "output_type": "display_data"
    }
   ],
   "source": [
    "# to format markdown into something more readable\n",
    "\n",
    "from IPython.display import Markdown, display\n",
    "display(Markdown(answer))"
   ]
  },
  {
   "cell_type": "code",
   "execution_count": 34,
   "id": "48dc53a6",
   "metadata": {},
   "outputs": [
    {
     "data": {
      "text/markdown": [
       "One promising business area in the Philippines that would benefit from exploring agentic AI solutions is the **agriculture sector**. Given the country’s reliance on agriculture as a major component of its economy, and the challenges faced in terms of productivity, climate change, and resource management, there is significant potential for innovation through AI.\n",
       "\n",
       "### Opportunities for Agentic AI Solutions in Agriculture:\n",
       "\n",
       "1. **Precision Farming**: Implementing AI algorithms to analyze data from various sources (satellite imagery, IoT sensors, soil health analytics) can help farmers optimize their use of resources (water, fertilizers) and increase crop yields. \n",
       "\n",
       "2. **Automated Crop Management**: Developing AI-powered agents that can monitor crop health, predict disease outbreaks, and suggest preventive measures can significantly enhance productivity and reduce losses.\n",
       "\n",
       "3. **Supply Chain Optimization**: Using AI to analyze market patterns, demand forecasting, and logistics can aid farmers in better managing their supply chains, ensuring they can maximize profits and reduce waste.\n",
       "\n",
       "4. **Labor Management**: Implementing AI-driven solutions for labor scheduling, training, and task management can streamline agricultural operations, especially in rural areas where labor dynamics can shift significantly due to various factors.\n",
       "\n",
       "5. **Financial Services and Credit Scoring**: Leveraging AI to evaluate the creditworthiness of farmers based on alternative data (like crop yield predictions) can facilitate better access to financing options and tailor financial products for their needs.\n",
       "\n",
       "6. **Climate Resilience**: AI solutions can help farmers adapt to climate change by predicting weather patterns and providing insights into more resilient crop varieties or farming practices suitable for changing conditions.\n",
       "\n",
       "7. **Education and Training**: AI-powered platforms can offer targeted education and training for farmers, providing them with readily available information on best practices, new technologies, and market demands.\n",
       "\n",
       "### Conclusion\n",
       "\n",
       "Given the significant importance of agriculture in the Philippines, coupled with the inherent challenges and the opportunity for technological disruption, agentic AI solutions could play a transformative role. By improving efficiency, sustainability, and profitability in the sector, these solutions can aid in advancing the livelihood of farmers while contributing to the country's economic growth."
      ],
      "text/plain": [
       "<IPython.core.display.Markdown object>"
      ]
     },
     "metadata": {},
     "output_type": "display_data"
    },
    {
     "data": {
      "text/markdown": [
       "To identify pain points in a specific business area that could benefit from AI agentic solutions, let's focus on a few industries. Here are some common pain points across a selection of industries:\n",
       "\n",
       "### 1. **Healthcare**\n",
       "   - **Patient Data Management**: Managing and integrating vast amounts of patient data from various sources can be inefficient and prone to errors.\n",
       "   - **Administrative Burden**: Healthcare providers often face excessive paperwork and administrative tasks, detracting from patient care.\n",
       "   - **Diagnostic Errors**: Misdiagnosis or delayed diagnosis remains a significant issue, contributing to patient harm.\n",
       "   - **Personalized Treatment Plans**: Difficulty in analyzing data for creating individualized treatment plans.\n",
       "   - **Resource Allocation**: Inefficient allocation of healthcare resources leads to overcrowding and longer waiting times.\n",
       "\n",
       "### 2. **Retail**\n",
       "   - **Inventory Management**: Over or under-stocking products due to inaccurate demand forecasting can lead to financial losses.\n",
       "   - **Customer Experience**: Challenges in providing personalized shopping experiences can lead to lost sales opportunities.\n",
       "   - **Supply Chain Disruptions**: Inefficient tracking and coordination within the supply chain can result in delays.\n",
       "   - **Loss Prevention**: Retailers struggle with theft and fraud, and detecting these issues often requires manual oversight.\n",
       "\n",
       "### 3. **Finance**\n",
       "   - **Fraud Detection**: Financial institutions face significant challenges in proactively detecting and preventing fraudulent activities.\n",
       "   - **Regulatory Compliance**: Keeping up with constantly changing regulations can be resource-intensive and complex.\n",
       "   - **Customer Insights**: Difficulty in analyzing customer data to improve financial products and services.\n",
       "   - **Portfolio Management**: Investors need to manage diverse portfolios, and traditional methods may not keep pace with market changes.\n",
       "\n",
       "### 4. **Manufacturing**\n",
       "   - **Predictive Maintenance**: Unplanned machine failures can halt production processes, leading to financial losses.\n",
       "   - **Quality Control**: Ensuring consistent quality in manufactured products is a persistent issue.\n",
       "   - **Supply Chain Management**: Disruptions in the supply chain can affect production timelines and costs.\n",
       "   - **Workforce Management**: Efficiently managing shifts and labor resources can be challenging.\n",
       "\n",
       "### 5. **Transportation and Logistics**\n",
       "   - **Route Optimization**: Inefficiencies in route planning can lead to increased fuel costs and delivery times.\n",
       "   - **Predictive Analytics**: Difficulty in forecasting demand and capacity needs can affect service levels.\n",
       "   - **Cargo Tracking**: Lack of real-time visibility into shipment status can result in delays and customer dissatisfaction.\n",
       "   - **Regulations and Safety Compliance**: Navigating complex regulations while ensuring safety can be cumbersome.\n",
       "\n",
       "### 6. **Education**\n",
       "   - **Personalized Learning**: Struggling to cater to diverse learning needs and paces among students.\n",
       "   - **Administrative Workloads**: Educators spend significant time on administrative tasks rather than teaching.\n",
       "   - **Student Engagement**: Challenges in maintaining student interest and engagement in traditional learning environments.\n",
       "   - **Assessment and Feedback**: Difficulty in timely and effective evaluation of student performance.\n",
       "\n",
       "### Opportunity for AI Solutions\n",
       "AI agentic solutions can address these pain points by offering:\n",
       "\n",
       "- **Automation**: Streamlining administrative and repetitive tasks to allow personnel to focus on more value-adding activities.\n",
       "- **Data Analysis**: Utilizing machine learning algorithms to analyze big data for insights, predictive analytics, and decision-making support.\n",
       "- **Personalization**: Tailoring experiences and services to individuals based on their preferences and behaviors.\n",
       "- **Real-time Monitoring and Alerts**: Providing real-time insights into operations to swiftly address issues as they arise.\n",
       "- **Fraud Detection and Security**: Implementing AI-based surveillance and detection systems to mitigate risks.\n",
       "\n",
       "In conclusion, AI solutions have the potential to transform various industries by directly addressing their most pressing pain points. The key is to tailor the solutions to the unique challenges and needs of each sector."
      ],
      "text/plain": [
       "<IPython.core.display.Markdown object>"
      ]
     },
     "metadata": {},
     "output_type": "display_data"
    },
    {
     "data": {
      "text/markdown": [
       "Absolutely! To address a pain point, let’s consider a common issue in many workplaces: **employee burnout and stress due to poor work-life balance**.\n",
       "\n",
       "### Proposed Agentic Solution: **Flexible Work-Life Integration Platform**\n",
       "\n",
       "#### Overview\n",
       "Develop a digital platform that empowers employees to take control of their work-life balance through tailored, flexible scheduling, mental health resources, and peer support networks.\n",
       "\n",
       "#### Key Features\n",
       "\n",
       "1. **Customizable Work Hours**\n",
       "   - Allow employees to define their own work hours within a set framework. This could include options for core hours when they're expected to be online, but flexibility outside of these hours. \n",
       "\n",
       "2. **Wellness Resources**\n",
       "   - Integrate a library of mental health resources, such as guided meditations, stress management techniques, and articles on wellness practices. Users can access these at their convenience to help mitigate stress and promote mental well-being.\n",
       "\n",
       "3. **Peer Support Systems**\n",
       "   - Create a forum or chat platform where employees can share experiences and strategies for managing work-life balance. They could also connect with workplace mentors for guidance.\n",
       "\n",
       "4. **Progress Tracking and Feedback**\n",
       "   - Implement tools that allow employees to track their stress levels, workload, and overall wellness. Managers can receive anonymous feedback to identify trends and make necessary adjustments at an organizational level.\n",
       "\n",
       "5. **Micro-Break Reminders**\n",
       "   - Include features that remind employees to take micro-breaks throughout their workday to enhance focus and productivity. This could be based on their activity patterns analyzed through the platform.\n",
       "\n",
       "6. **Incentives for Balanced Practices**\n",
       "   - Introduce a rewards system for employees who actively participate in wellness activities, such as logging meditation time or taking regular breaks. Rewards could be in the form of gift cards, extra vacation days, or wellness stipends.\n",
       "\n",
       "#### Implementation\n",
       "- **Pilot Program**: Start with a smaller group of volunteers to test the platform and gather feedback for iterations.\n",
       "- **Training Sessions**: Provide onboarding for employees on how to best utilize the platform and prioritize their mental health.\n",
       "- **Data-Driven Adjustments**: Regularly analyze collected data to make informed decisions about resources and features that best support employee wellbeing.\n",
       "\n",
       "#### Benefits\n",
       "- **Increased Employee Satisfaction**: Empowering employees with autonomy over their schedules can lead to higher job satisfaction and lower turnover rates.\n",
       "- **Enhanced Productivity**: With reduced stress and improved mental health, employees are likely to be more focused and productive.\n",
       "- **Positive Workplace Culture**: Fostering an environment that prioritizes employee well-being helps build a positive company culture.\n",
       "\n",
       "This platform serves not only as a resource but also as an agentic tool that gives employees agency over their work-life integration, addressing the pain points of burnout and stress effectively."
      ],
      "text/plain": [
       "<IPython.core.display.Markdown object>"
      ]
     },
     "metadata": {},
     "output_type": "display_data"
    }
   ],
   "source": [
    "# Lab\n",
    "\n",
    "from IPython.display import Markdown, display \n",
    "\n",
    "def ask_openai(messages):\n",
    "    response = openai.chat.completions.create(model=\"gpt-4o-mini\", messages=messages)\n",
    "    return response.choices[0].message.content\n",
    "\n",
    "messages = [{\"role\": \"user\", \"content\": \"Pick a business area, in the Philippines setting, that might be worth it in exploring agentic AI solutions opportunity\"}]\n",
    "\n",
    "bus_a = ask_openai(messages=messages)\n",
    "display(Markdown(bus_a))\n",
    "\n",
    "messages.append({\"role\": \"agent\", \"content\": bus_a})\n",
    "messages = [{\"role\": \"user\", \"content\": \"Given the business area, present paint points in this industry - something that might be ripe for AI Agentic solutions. \"}]\n",
    "\n",
    "pain_points = ask_openai(messages=messages) \n",
    "display(Markdown(pain_points))\n",
    "\n",
    "messages.append({\"role\": \"agent\", \"content\": pain_points})\n",
    "messages = [{\"role\": \"user\", \"content\": \"Propose an agentic solution to one of the pain points\"}]\n",
    "\n",
    "solution = ask_openai(messages=messages)\n",
    "display(Markdown(solution))"
   ]
  },
  {
   "cell_type": "markdown",
   "id": "4b73234a",
   "metadata": {},
   "source": [
    "Agents: are programs where LLM outputs control the workflow\n",
    "Hallmarks:\n",
    "1. Multiple LLM calls\n",
    "2. LLMs with ability to use Tools\n",
    "3. An environment where LLMs interact\n",
    "4. A Planner to coordinate activities\n",
    "5. Autonomy\n",
    "\n",
    "Agentic System (Anthropic)\n",
    "1. Workflows are systems where LLMs and tools are orchestrated through predefined code paths\n",
    "2. Agents are systems where LLMs dynamically direct their own processes and tool usage, maintaining controlober how they accomplish tasks\n",
    "\n",
    "Workflow Design Patterns\n",
    "1. Prompt Chaining -> LLM passing to another LLM and so on\n",
    "2. Routing - direct an input into a specialized sub task, ensuring separation of concerns\n",
    "3. Parallelization - breaking down tasks and running multiple subtasks concurrently\n",
    "4. Orchestrator-Worker - complex tasks are broken down dynamically and combined\n",
    "5. Evaluator-Optimizer - LLM output is validated by another\n",
    "\n",
    "Agents is/has\n",
    "1. Open-ended\n",
    "2. Feedback loops\n",
    "3. No fixed path\n",
    "\n",
    "Risk of Agent framework\n",
    "1. Unpredictable path\n",
    "2. Unpredictable output\n",
    "3. Unpredictable cost\n",
    "\n",
    "Mitigations\n",
    "1. Monitor\n",
    "2. Guardrails - ensures your agents behave safely, consistently and within your intended boundaries\n"
   ]
  }
 ],
 "metadata": {
  "kernelspec": {
   "display_name": ".venv",
   "language": "python",
   "name": "python3"
  },
  "language_info": {
   "codemirror_mode": {
    "name": "ipython",
    "version": 3
   },
   "file_extension": ".py",
   "mimetype": "text/x-python",
   "name": "python",
   "nbconvert_exporter": "python",
   "pygments_lexer": "ipython3",
   "version": "3.12.11"
  }
 },
 "nbformat": 4,
 "nbformat_minor": 5
}
