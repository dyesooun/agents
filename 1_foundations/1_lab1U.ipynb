{
 "cells": [
  {
   "cell_type": "code",
   "execution_count": 1,
   "id": "4bb5cc11",
   "metadata": {},
   "outputs": [],
   "source": [
    "from dotenv import load_dotenv"
   ]
  },
  {
   "cell_type": "code",
   "execution_count": 2,
   "id": "58b725f0",
   "metadata": {},
   "outputs": [
    {
     "data": {
      "text/plain": [
       "True"
      ]
     },
     "execution_count": 2,
     "metadata": {},
     "output_type": "execute_result"
    }
   ],
   "source": [
    "load_dotenv(override=True)"
   ]
  },
  {
   "cell_type": "code",
   "execution_count": 6,
   "id": "e34df457",
   "metadata": {},
   "outputs": [],
   "source": [
    "#importing API keys\n",
    "\n",
    "import os\n",
    "\n",
    "OPENAI_API_KEY = os.getenv(\"OPENAI_API_KEY\")\n",
    "\n",
    "if not OPENAI_API_KEY:\n",
    "    print(\"API key not found!\")"
   ]
  },
  {
   "cell_type": "code",
   "execution_count": 8,
   "id": "7f954687",
   "metadata": {},
   "outputs": [],
   "source": [
    "from openai import OpenAI\n",
    "\n",
    "openai = OpenAI()"
   ]
  },
  {
   "cell_type": "code",
   "execution_count": null,
   "id": "8115cc16",
   "metadata": {},
   "outputs": [
    {
     "name": "stdout",
     "output_type": "stream",
     "text": [
      "2 + 2 equals 4.\n"
     ]
    }
   ],
   "source": [
    "messages = [\n",
    "    {\"role\": \"user\", \"content\": \"What is 2+2\"}\n",
    "]\n",
    "\n",
    "response = openai.chat.completions.create(model=\"gpt-4o-mini\", messages=messages)\n",
    "\n",
    "print(response.choices[0].message.content)"
   ]
  },
  {
   "cell_type": "code",
   "execution_count": 25,
   "id": "0047f181",
   "metadata": {},
   "outputs": [
    {
     "name": "stdout",
     "output_type": "stream",
     "text": [
      "If you have a five-gallon jug and a three-gallon jug, how can you measure exactly four gallons of water using only these two jugs?\n"
     ]
    }
   ],
   "source": [
    "content = \"Please propse a hard, challenging question to assess someone's IQ. Respond only with questions.\"\n",
    "messages = [{\"role\": \"user\", \"content\": content}]\n",
    "\n",
    "response = openai.chat.completions.create(model=\"gpt-4o-mini\", messages=messages)\n",
    "question = response.choices[0].message.content\n",
    "print(question)"
   ]
  },
  {
   "cell_type": "code",
   "execution_count": 26,
   "id": "b35eaf5f",
   "metadata": {},
   "outputs": [],
   "source": [
    "messages = [{\"role\": \"user\", \"content\": question}]\n",
    "\n",
    "response = openai.chat.completions.create(model=\"gpt-4o-mini\", messages=messages)\n",
    "answer = response.choices[0].message.content"
   ]
  },
  {
   "cell_type": "code",
   "execution_count": null,
   "id": "d737741d",
   "metadata": {},
   "outputs": [
    {
     "data": {
      "text/markdown": [
       "You can measure exactly four gallons of water using a five-gallon jug and a three-gallon jug by following these steps:\n",
       "\n",
       "1. Fill the three-gallon jug to the top.\n",
       "2. Pour the water from the three-gallon jug into the five-gallon jug.\n",
       "3. Fill the three-gallon jug to the top again.\n",
       "4. Carefully pour water from the three-gallon jug into the five-gallon jug until the five-gallon jug is full. Since it already has three gallons of water in it, it can only take two more gallons from the three-gallon jug.\n",
       "5. At this point, you will have exactly one gallon of water left in the three-gallon jug (since you poured out two gallons).\n",
       "6. Empty the five-gallon jug completely.\n",
       "7. Pour the one gallon of water from the three-gallon jug into the five-gallon jug.\n",
       "8. Fill the three-gallon jug to the top once more.\n",
       "9. Pour the water from the three-gallon jug into the five-gallon jug. Since the five-gallon jug already contains one gallon, it will now take three more gallons from the three-gallon jug.\n",
       "\n",
       "Now, you have exactly four gallons in the five-gallon jug."
      ],
      "text/plain": [
       "<IPython.core.display.Markdown object>"
      ]
     },
     "metadata": {},
     "output_type": "display_data"
    }
   ],
   "source": [
    "# to format markdown into something more readable\n",
    "\n",
    "from IPython.display import Markdown, display\n",
    "display(Markdown(answer))"
   ]
  }
 ],
 "metadata": {
  "kernelspec": {
   "display_name": ".venv",
   "language": "python",
   "name": "python3"
  },
  "language_info": {
   "codemirror_mode": {
    "name": "ipython",
    "version": 3
   },
   "file_extension": ".py",
   "mimetype": "text/x-python",
   "name": "python",
   "nbconvert_exporter": "python",
   "pygments_lexer": "ipython3",
   "version": "3.12.11"
  }
 },
 "nbformat": 4,
 "nbformat_minor": 5
}
