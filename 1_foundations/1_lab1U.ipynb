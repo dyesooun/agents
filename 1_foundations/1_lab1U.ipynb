{
 "cells": [
  {
   "cell_type": "code",
   "execution_count": 1,
   "id": "4bb5cc11",
   "metadata": {},
   "outputs": [],
   "source": [
    "from dotenv import load_dotenv"
   ]
  },
  {
   "cell_type": "code",
   "execution_count": 2,
   "id": "58b725f0",
   "metadata": {},
   "outputs": [
    {
     "data": {
      "text/plain": [
       "True"
      ]
     },
     "execution_count": 2,
     "metadata": {},
     "output_type": "execute_result"
    }
   ],
   "source": [
    "load_dotenv(override=True)"
   ]
  },
  {
   "cell_type": "code",
   "execution_count": 6,
   "id": "e34df457",
   "metadata": {},
   "outputs": [],
   "source": [
    "#importing API keys\n",
    "\n",
    "import os\n",
    "\n",
    "OPENAI_API_KEY = os.getenv(\"OPENAI_API_KEY\")\n",
    "\n",
    "if not OPENAI_API_KEY:\n",
    "    print(\"API key not found!\")"
   ]
  },
  {
   "cell_type": "code",
   "execution_count": 8,
   "id": "7f954687",
   "metadata": {},
   "outputs": [],
   "source": [
    "from openai import OpenAI\n",
    "\n",
    "openai = OpenAI()"
   ]
  },
  {
   "cell_type": "code",
   "execution_count": null,
   "id": "8115cc16",
   "metadata": {},
   "outputs": [
    {
     "name": "stdout",
     "output_type": "stream",
     "text": [
      "2 + 2 equals 4.\n"
     ]
    }
   ],
   "source": [
    "messages = [\n",
    "    {\"role\": \"user\", \"content\": \"What is 2+2\"}\n",
    "]\n",
    "\n",
    "response = openai.chat.completions.create(model=\"gpt-4o-mini\", messages=messages)\n",
    "\n",
    "print(response.choices[0].message.content)"
   ]
  },
  {
   "cell_type": "code",
   "execution_count": 25,
   "id": "0047f181",
   "metadata": {},
   "outputs": [
    {
     "name": "stdout",
     "output_type": "stream",
     "text": [
      "If you have a five-gallon jug and a three-gallon jug, how can you measure exactly four gallons of water using only these two jugs?\n"
     ]
    }
   ],
   "source": [
    "content = \"Please propse a hard, challenging question to assess someone's IQ. Respond only with questions.\"\n",
    "messages = [{\"role\": \"user\", \"content\": content}]\n",
    "\n",
    "response = openai.chat.completions.create(model=\"gpt-4o-mini\", messages=messages)\n",
    "question = response.choices[0].message.content\n",
    "print(question)"
   ]
  },
  {
   "cell_type": "code",
   "execution_count": 26,
   "id": "b35eaf5f",
   "metadata": {},
   "outputs": [],
   "source": [
    "messages = [{\"role\": \"user\", \"content\": question}]\n",
    "\n",
    "response = openai.chat.completions.create(model=\"gpt-4o-mini\", messages=messages)\n",
    "answer = response.choices[0].message.content"
   ]
  },
  {
   "cell_type": "code",
   "execution_count": null,
   "id": "d737741d",
   "metadata": {},
   "outputs": [
    {
     "data": {
      "text/markdown": [
       "You can measure exactly four gallons of water using a five-gallon jug and a three-gallon jug by following these steps:\n",
       "\n",
       "1. Fill the three-gallon jug to the top.\n",
       "2. Pour the water from the three-gallon jug into the five-gallon jug.\n",
       "3. Fill the three-gallon jug to the top again.\n",
       "4. Carefully pour water from the three-gallon jug into the five-gallon jug until the five-gallon jug is full. Since it already has three gallons of water in it, it can only take two more gallons from the three-gallon jug.\n",
       "5. At this point, you will have exactly one gallon of water left in the three-gallon jug (since you poured out two gallons).\n",
       "6. Empty the five-gallon jug completely.\n",
       "7. Pour the one gallon of water from the three-gallon jug into the five-gallon jug.\n",
       "8. Fill the three-gallon jug to the top once more.\n",
       "9. Pour the water from the three-gallon jug into the five-gallon jug. Since the five-gallon jug already contains one gallon, it will now take three more gallons from the three-gallon jug.\n",
       "\n",
       "Now, you have exactly four gallons in the five-gallon jug."
      ],
      "text/plain": [
       "<IPython.core.display.Markdown object>"
      ]
     },
     "metadata": {},
     "output_type": "display_data"
    }
   ],
   "source": [
    "# to format markdown into something more readable\n",
    "\n",
    "from IPython.display import Markdown, display\n",
    "display(Markdown(answer))"
   ]
  },
  {
   "cell_type": "code",
   "execution_count": null,
   "id": "48dc53a6",
   "metadata": {},
   "outputs": [
    {
     "data": {
      "text/markdown": [
       "One promising business area in the Philippines that could benefit significantly from agentic AI solutions is **agriculture and agritech**. \n",
       "\n",
       "### Reasons for Exploring Agentic AI in Agriculture:\n",
       "\n",
       "1. **Smallholder Farmers**: A large portion of the agricultural sector in the Philippines consists of smallholder farmers who often struggle with access to resources, information, and technology. AI solutions can empower these farmers by providing personalized insights and support tailored to their specific needs.\n",
       "\n",
       "2. **Precision Agriculture**: AI can enhance precision agriculture techniques, allowing farmers to utilize data on soil health, weather patterns, and crop conditions to optimize resource use (such as water, fertilizers, and pesticides), thus increasing yield and minimizing wastage.\n",
       "\n",
       "3. **Supply Chain Optimization**: The agricultural supply chain in the Philippines can be fragmented and inefficient. Agentic AI solutions can help in optimizing supply chain logistics through predictive analytics, real-time tracking, and demand forecasting, ensuring that produce reaches markets more efficiently.\n",
       "\n",
       "4. **Pest and Disease Management**: AI-powered tools can automate the monitoring of crops for signs of stress, pest infestations, or diseases. This can lead to timely interventions and reduce crop losses, a crucial factor for farmers operating on thin margins.\n",
       "\n",
       "5. **Market Access and Pricing**: By leveraging agentic AI, farmers can gain better insights into market trends and pricing, allowing them to make informed decisions about when and where to sell their products for maximum profit.\n",
       "\n",
       "6. **Sustainable Practices**: There is a growing demand for sustainable farming practices. AI solutions can guide farmers towards eco-friendly techniques and help in compliance with regulatory standards, which is becoming increasingly important in global markets.\n",
       "\n",
       "7. **Data-Driven Decision Making**: By harnessing AI, farmers can create a more data-driven approach to agriculture, using historical data and predictive modeling to inform their decisions on planting, harvesting, and marketing.\n",
       "\n",
       "8. **Remote Assistance and Training**: Agentic AI can facilitate remote education and support for farmers, providing them with training modules, troubleshooting advice, and real-time assistance through chatbots or virtual assistants.\n",
       "\n",
       "### Conclusion:\n",
       "\n",
       "Exploring agentic AI solutions in agriculture could not only enhance productivity and sustainability but could also lead to improved food security, increased farmer income, and economic development in rural areas of the Philippines. As agricultural challenges grow, the need for innovative and scalable solutions becomes increasingly urgent, making this a ripe area for AI intervention."
      ],
      "text/plain": [
       "<IPython.core.display.Markdown object>"
      ]
     },
     "metadata": {},
     "output_type": "display_data"
    },
    {
     "data": {
      "text/markdown": [
       "The agriculture and agritech sector in the Philippines presents numerous pain points that could benefit significantly from agentic AI solutions. Below is a detailed breakdown of these challenges, reaffirming the potential for innovation through AI.\n",
       "\n",
       "### Pain Points in Agriculture and Agritech in the Philippines:\n",
       "\n",
       "1. **Access to Information**: Many smallholder farmers lack access to timely and relevant information regarding crop management, market prices, and weather conditions. The challenge lies in the dissemination of this information in local languages, accessible formats, and in a way that farmers can easily understand and implement.\n",
       "\n",
       "2. **Resource Limitations**: Smallholder farmers often face constraints in accessing technology, financing, and quality inputs (seeds, fertilizers, equipment). This limitation hampers their productivity and ability to adopt modern agricultural practices.\n",
       "\n",
       "3. **Fragmented Supply Chain**: The agricultural supply chain in the Philippines is often marked by gaps and inefficiencies. Farmers may struggle to connect with buyers directly, leading to price markups and wastage due to poor logistics and transportation challenges.\n",
       "\n",
       "4. **Predicting Crop Performance**: Without robust data analytics, many farmers operate under trial-and-error methods. Predictive models based on weather and market data can significantly assist but are often unavailable or too complex for general use.\n",
       "\n",
       "5. **Impact of Climate Change**: The Philippines is vulnerable to climate change, which impacts weather patterns, crop yields, and pest behavior. Farmers need adaptive strategies that can evolve based on real-time environmental data.\n",
       "\n",
       "6. **Limited Access to Financial Services**: Many farmers face difficulties in securing credit and other financial services due to a lack of credit histories, collateral, or understanding of financial products, which stunts their growth potential.\n",
       "\n",
       "7. **Labor Shortages and Aging Population**: As the rural workforce ages and the younger generation migrates to urban areas, there is a decreasing number of people willing to engage in traditional farming. This leads to labor shortages and necessitates the need for automation.\n",
       "\n",
       "8. **Inefficient Pest and Disease Management**: Farmers often rely on chemical methods for pest control without precise monitoring, leading to overuse, increased costs, and negative environmental impacts. Early detection mechanisms are often non-existent or inefficient.\n",
       "\n",
       "9. **Quality Assurance and Compliance**: Farmers may find it challenging to consistently meet market demand for high-quality produce and adhere to regulatory standards, especially in export markets where quality controls are stringent.\n",
       "\n",
       "10. **Lack of Collaboration Platforms**: There is often insufficient collaboration and communication between farmers, cooperatives, government agencies, and agritech firms. This siloed approach can hinder innovation and knowledge-sharing.\n",
       "\n",
       "### Opportunities for Agentic AI Solutions:\n",
       "\n",
       "1. **Localized Information Dissemination**: Develop AI-driven platforms that provide localized weather forecasts, pest alerts, and best farming practices tailored to specific crops and regions.\n",
       "\n",
       "2. **Resource Accessibility**: Create AI tools that connect farmers with suppliers, financial institutions, and agronomic experts to improve access to necessary resources.\n",
       "\n",
       "3. **Supply Chain Transparency**: Implement blockchain and AI solutions to enhance transparency, traceability, and efficiency in the agricultural supply chain, connecting farmers directly with consumers and reducing intermediaries.\n",
       "\n",
       "4. **Predictive Analytics for Crop Health**: Utilize AI to analyze historical and real-time data to forecast crop performance and guide farmers on optimal planting schedules and techniques.\n",
       "\n",
       "5. **Climate-Smart Farming Solutions**: Develop adaptive AI models that recommend best practices according to changing weather patterns, helping farmers prepare for climate-related challenges.\n",
       "\n",
       "6. **FinTech Integration**: Leverage AI to develop tailored financial products for smallholders, assessing risk and providing microloans suitable for seasonal crops and operations.\n",
       "\n",
       "7. **Automation of Farm Tasks**: Invest in AI-driven robotic solutions for planting, harvesting, and monitoring, decreasing dependency on manual labor while increasing efficiency.\n",
       "\n",
       "8. **Integrated Pest Management Systems**: Create AI tools that utilize image recognition and environmental data to provide timely alerts and pest control guidance to farmers.\n",
       "\n",
       "9. **Quality Monitoring Technologies**: Develop AI systems that assist farmers in maintaining quality standards through real-time monitoring and automated grading systems.\n",
       "\n",
       "10. **Collaborative Platforms**: Foster digital platforms that facilitate collaboration and knowledge exchange among farmers, researchers, and agritech companies, driving innovation and best practice sharing.\n",
       "\n",
       "### Conclusion:\n",
       "\n",
       "The combination of agentic AI solutions promises to address these critical pain points in the Philippines' agricultural sector. By implementing AI technologies, not only can productivity be enhanced, but the entire ecosystem can be made more sustainable, inclusive, and resilient to the challenges faced by farmers today. This technological shift could significantly aid in achieving food security and economic growth in rural areas, making agriculture a vibrant pillar of the Philippine economy."
      ],
      "text/plain": [
       "<IPython.core.display.Markdown object>"
      ]
     },
     "metadata": {},
     "output_type": "display_data"
    }
   ],
   "source": [
    "# Lab\n",
    "\n",
    "from IPython.display import Markdown, display \n",
    "\n",
    "def ask_openai(messages):\n",
    "    response = openai.chat.completions.create(model=\"gpt-4o-mini\", messages=messages, stream=True)\n",
    "    return response.choices[0].message.content\n",
    "\n",
    "messages = [{\"role\": \"user\", \"content\": \"Pick a business area, in the Philippines setting, that might be worth it in exploring agentic AI solutions opportunity\"}]\n",
    "\n",
    "bus_a = ask_openai(messages=messages)\n",
    "display(Markdown(bus_a))\n",
    "\n",
    "messages.append({\"role\": \"agent\", \"content\": bus_a})\n",
    "messages = [{\"role\": \"user\", \"content\": \"Given the business area, present paint points in this industry - something that might be ripe for AI Agentic solutions. \"}]\n",
    "\n",
    "pain_points = ask_openai(messages=messages) \n",
    "display(Markdown(pain_points))\n",
    "\n",
    "messages.append({\"role\": \"agent\", \"content\": pain_points})\n",
    "messages = [{\"role\": \"user\", \"content\": \"Given the business area, present paint points in this industry - something that might be ripe for AI Agentic solutions. \"}]\n",
    "# print(pain_points)"
   ]
  }
 ],
 "metadata": {
  "kernelspec": {
   "display_name": ".venv",
   "language": "python",
   "name": "python3"
  },
  "language_info": {
   "codemirror_mode": {
    "name": "ipython",
    "version": 3
   },
   "file_extension": ".py",
   "mimetype": "text/x-python",
   "name": "python",
   "nbconvert_exporter": "python",
   "pygments_lexer": "ipython3",
   "version": "3.12.11"
  }
 },
 "nbformat": 4,
 "nbformat_minor": 5
}
